{
 "cells": [
  {
   "cell_type": "code",
   "execution_count": 1,
   "id": "8f7a0447-20cb-4483-a14f-a9332e3d9375",
   "metadata": {},
   "outputs": [],
   "source": [
    "import pandas as pd\n",
    "from bs4 import BeautifulSoup\n",
    "import selenium\n",
    "import requests"
   ]
  },
  {
   "cell_type": "code",
   "execution_count": 3,
   "id": "f5bfdc43-3b0a-471a-928c-8152abe5edd5",
   "metadata": {},
   "outputs": [],
   "source": [
    "url = 'https://www.premierleague.com/stats/top/players/goals'"
   ]
  },
  {
   "cell_type": "code",
   "execution_count": 5,
   "id": "5c4d0bac-b60d-4625-8131-494bbf17968e",
   "metadata": {},
   "outputs": [],
   "source": [
    "response = requests.get(url)\n",
    "soup = BeautifulSoup(response.content, \"html.parser\")"
   ]
  },
  {
   "cell_type": "code",
   "execution_count": 7,
   "id": "0ae9b520-a11d-479e-87d4-b8ceae8d09b8",
   "metadata": {},
   "outputs": [
    {
     "data": {
      "text/plain": [
       "200"
      ]
     },
     "execution_count": 7,
     "metadata": {},
     "output_type": "execute_result"
    }
   ],
   "source": [
    "response.status_code"
   ]
  },
  {
   "cell_type": "code",
   "execution_count": 9,
   "id": "c2797765-352d-47cd-b55b-7a30b272d61d",
   "metadata": {},
   "outputs": [],
   "source": [
    "standings_table = soup.find('h1[class=\"stats-table__container statsTableContainer\"]')"
   ]
  },
  {
   "cell_type": "code",
   "execution_count": 11,
   "id": "42a671e9-a712-47e8-b255-ff74b37bfda0",
   "metadata": {},
   "outputs": [],
   "source": [
    "rank = soup.select_one('h1[class=\"stats-table__header-rank\"]' , scope=\"col\")"
   ]
  },
  {
   "cell_type": "code",
   "execution_count": 13,
   "id": "4f0e7270-7ab4-425c-ab3c-6ac2ab17ec39",
   "metadata": {},
   "outputs": [],
   "source": [
    "player = soup.select_one('h1[scope=\"col\"]')"
   ]
  },
  {
   "cell_type": "code",
   "execution_count": 15,
   "id": "247808ce-53e6-41c8-9f9f-b3a70aec2c4f",
   "metadata": {},
   "outputs": [],
   "source": [
    "club = soup.select_one('h1[class=\"hide-s\"]' , scope=\"col\")"
   ]
  },
  {
   "cell_type": "code",
   "execution_count": 17,
   "id": "072a35a5-89b0-49c4-a97a-137cbcd3c0ba",
   "metadata": {},
   "outputs": [],
   "source": [
    "nationality = soup.select_one('h1[class=\"hide-s\"]' , scope=\"col\")"
   ]
  },
  {
   "cell_type": "code",
   "execution_count": 19,
   "id": "bfa1662d-2f2d-4379-b62e-6f7d1ae5dbdf",
   "metadata": {},
   "outputs": [],
   "source": [
    "goals = soup.select_one('h1[scope=\"col\"]')"
   ]
  },
  {
   "cell_type": "code",
   "execution_count": 21,
   "id": "6b78b87a-5a4e-4d98-a830-26190fa7f32d",
   "metadata": {},
   "outputs": [],
   "source": [
    "df = pd.read_html(response.text)"
   ]
  },
  {
   "cell_type": "code",
   "execution_count": 29,
   "id": "cbbc70df-99f9-448e-b9ed-ae6c2f12ecae",
   "metadata": {},
   "outputs": [
    {
     "data": {
      "text/html": [
       "<div>\n",
       "<style scoped>\n",
       "    .dataframe tbody tr th:only-of-type {\n",
       "        vertical-align: middle;\n",
       "    }\n",
       "\n",
       "    .dataframe tbody tr th {\n",
       "        vertical-align: top;\n",
       "    }\n",
       "\n",
       "    .dataframe thead th {\n",
       "        text-align: right;\n",
       "    }\n",
       "</style>\n",
       "<table border=\"1\" class=\"dataframe\">\n",
       "  <thead>\n",
       "    <tr style=\"text-align: right;\">\n",
       "      <th></th>\n",
       "      <th>Rank</th>\n",
       "      <th>Player</th>\n",
       "      <th>Club</th>\n",
       "      <th>Nationality</th>\n",
       "      <th>Stat</th>\n",
       "      <th>Unnamed: 5</th>\n",
       "    </tr>\n",
       "  </thead>\n",
       "  <tbody>\n",
       "    <tr>\n",
       "      <th>0</th>\n",
       "      <td>1.0</td>\n",
       "      <td>Erling Haaland</td>\n",
       "      <td>Manchester City</td>\n",
       "      <td>Norway</td>\n",
       "      <td>10</td>\n",
       "      <td>NaN</td>\n",
       "    </tr>\n",
       "    <tr>\n",
       "      <th>1</th>\n",
       "      <td>2.0</td>\n",
       "      <td>Bryan Mbeumo</td>\n",
       "      <td>Brentford</td>\n",
       "      <td>Cameroon</td>\n",
       "      <td>6</td>\n",
       "      <td>NaN</td>\n",
       "    </tr>\n",
       "    <tr>\n",
       "      <th>2</th>\n",
       "      <td>2.0</td>\n",
       "      <td>Cole Palmer</td>\n",
       "      <td>Chelsea</td>\n",
       "      <td>England</td>\n",
       "      <td>6</td>\n",
       "      <td>NaN</td>\n",
       "    </tr>\n",
       "    <tr>\n",
       "      <th>3</th>\n",
       "      <td>4.0</td>\n",
       "      <td>Luis Díaz</td>\n",
       "      <td>Liverpool</td>\n",
       "      <td>Colombia</td>\n",
       "      <td>5</td>\n",
       "      <td>NaN</td>\n",
       "    </tr>\n",
       "    <tr>\n",
       "      <th>4</th>\n",
       "      <td>5.0</td>\n",
       "      <td>Liam Delap</td>\n",
       "      <td>Ipswich Town</td>\n",
       "      <td>England</td>\n",
       "      <td>4</td>\n",
       "      <td>NaN</td>\n",
       "    </tr>\n",
       "    <tr>\n",
       "      <th>5</th>\n",
       "      <td>5.0</td>\n",
       "      <td>Jhon Durán</td>\n",
       "      <td>Aston Villa</td>\n",
       "      <td>Colombia</td>\n",
       "      <td>4</td>\n",
       "      <td>NaN</td>\n",
       "    </tr>\n",
       "    <tr>\n",
       "      <th>6</th>\n",
       "      <td>5.0</td>\n",
       "      <td>Kai Havertz</td>\n",
       "      <td>Arsenal</td>\n",
       "      <td>Germany</td>\n",
       "      <td>4</td>\n",
       "      <td>NaN</td>\n",
       "    </tr>\n",
       "    <tr>\n",
       "      <th>7</th>\n",
       "      <td>5.0</td>\n",
       "      <td>Nicolas Jackson</td>\n",
       "      <td>Chelsea</td>\n",
       "      <td>Senegal</td>\n",
       "      <td>4</td>\n",
       "      <td>NaN</td>\n",
       "    </tr>\n",
       "    <tr>\n",
       "      <th>8</th>\n",
       "      <td>5.0</td>\n",
       "      <td>Noni Madueke</td>\n",
       "      <td>Chelsea</td>\n",
       "      <td>England</td>\n",
       "      <td>4</td>\n",
       "      <td>NaN</td>\n",
       "    </tr>\n",
       "    <tr>\n",
       "      <th>9</th>\n",
       "      <td>5.0</td>\n",
       "      <td>Mohamed Salah</td>\n",
       "      <td>Liverpool</td>\n",
       "      <td>Egypt</td>\n",
       "      <td>4</td>\n",
       "      <td>NaN</td>\n",
       "    </tr>\n",
       "  </tbody>\n",
       "</table>\n",
       "</div>"
      ],
      "text/plain": [
       "   Rank           Player             Club Nationality  Stat  Unnamed: 5\n",
       "0   1.0   Erling Haaland  Manchester City      Norway    10         NaN\n",
       "1   2.0     Bryan Mbeumo        Brentford    Cameroon     6         NaN\n",
       "2   2.0      Cole Palmer          Chelsea     England     6         NaN\n",
       "3   4.0        Luis Díaz        Liverpool    Colombia     5         NaN\n",
       "4   5.0       Liam Delap     Ipswich Town     England     4         NaN\n",
       "5   5.0       Jhon Durán      Aston Villa    Colombia     4         NaN\n",
       "6   5.0      Kai Havertz          Arsenal     Germany     4         NaN\n",
       "7   5.0  Nicolas Jackson          Chelsea     Senegal     4         NaN\n",
       "8   5.0     Noni Madueke          Chelsea     England     4         NaN\n",
       "9   5.0    Mohamed Salah        Liverpool       Egypt     4         NaN"
      ]
     },
     "execution_count": 29,
     "metadata": {},
     "output_type": "execute_result"
    }
   ],
   "source": [
    "df[0]"
   ]
  },
  {
   "cell_type": "code",
   "execution_count": 2,
   "id": "cf1150d6-b7bc-43a8-ae1c-343aeaf223df",
   "metadata": {},
   "outputs": [
    {
     "name": "stdout",
     "output_type": "stream",
     "text": [
      "Requirement already satisfied: virtualenv in /opt/anaconda3/lib/python3.12/site-packages (20.26.6)\n",
      "Requirement already satisfied: distlib<1,>=0.3.7 in /opt/anaconda3/lib/python3.12/site-packages (from virtualenv) (0.3.9)\n",
      "Requirement already satisfied: filelock<4,>=3.12.2 in /opt/anaconda3/lib/python3.12/site-packages (from virtualenv) (3.13.1)\n",
      "Requirement already satisfied: platformdirs<5,>=3.9.1 in /opt/anaconda3/lib/python3.12/site-packages (from virtualenv) (3.10.0)\n",
      "Note: you may need to restart the kernel to use updated packages.\n"
     ]
    }
   ],
   "source": [
    "pip install virtualenv"
   ]
  },
  {
   "cell_type": "code",
   "execution_count": 5,
   "id": "3f513617-20d6-4b51-89aa-414af06af5d1",
   "metadata": {},
   "outputs": [
    {
     "name": "stdout",
     "output_type": "stream",
     "text": [
      "mkdir: Top_goalscorers_in_EPL: File exists\n"
     ]
    }
   ],
   "source": [
    "mkdir Top_goalscorers_in_EPL"
   ]
  },
  {
   "cell_type": "code",
   "execution_count": 7,
   "id": "5bec250d-6533-4855-afe9-867453015c43",
   "metadata": {},
   "outputs": [
    {
     "name": "stdout",
     "output_type": "stream",
     "text": [
      "/Users/siphuvuyomngxunyeni/Top_goalscorers_in_EPL\n"
     ]
    }
   ],
   "source": [
    "cd Top_goalscorers_in_EPL"
   ]
  },
  {
   "cell_type": "code",
   "execution_count": 15,
   "id": "f5802ad4-d1d3-428d-94d6-d7a1ddd28c6a",
   "metadata": {},
   "outputs": [],
   "source": [
    "# Create virtual environment for the project and also activate the environment"
   ]
  },
  {
   "cell_type": "code",
   "execution_count": 34,
   "id": "cb21aec0-a4f4-492e-af02-2758daeb7c7d",
   "metadata": {},
   "outputs": [
    {
     "name": "stdout",
     "output_type": "stream",
     "text": [
      "Requirement already satisfied: requests in /opt/anaconda3/lib/python3.12/site-packages (2.32.2)\n",
      "Requirement already satisfied: charset-normalizer<4,>=2 in /opt/anaconda3/lib/python3.12/site-packages (from requests) (2.0.4)\n",
      "Requirement already satisfied: idna<4,>=2.5 in /opt/anaconda3/lib/python3.12/site-packages (from requests) (3.7)\n",
      "Requirement already satisfied: urllib3<3,>=1.21.1 in /opt/anaconda3/lib/python3.12/site-packages (from requests) (2.2.2)\n",
      "Requirement already satisfied: certifi>=2017.4.17 in /opt/anaconda3/lib/python3.12/site-packages (from requests) (2024.7.4)\n",
      "Note: you may need to restart the kernel to use updated packages.\n"
     ]
    }
   ],
   "source": [
    "pip install requests"
   ]
  },
  {
   "cell_type": "code",
   "execution_count": 32,
   "id": "5bb2050f-0814-401d-9856-0b5af07908a4",
   "metadata": {},
   "outputs": [
    {
     "name": "stdout",
     "output_type": "stream",
     "text": [
      "/Users/siphuvuyomngxunyeni/Top_goalscorers_in_EPL\n"
     ]
    }
   ],
   "source": [
    "cd Top_goalscorers_in_EPL"
   ]
  },
  {
   "cell_type": "code",
   "execution_count": 47,
   "id": "f75ac063-500d-4e27-8011-2cc6ef14d3f1",
   "metadata": {},
   "outputs": [
    {
     "name": "stdout",
     "output_type": "stream",
     "text": [
      "Requirement already satisfied: virtualenv in /opt/anaconda3/lib/python3.12/site-packages (20.26.6)\n",
      "Requirement already satisfied: distlib<1,>=0.3.7 in /opt/anaconda3/lib/python3.12/site-packages (from virtualenv) (0.3.9)\n",
      "Requirement already satisfied: filelock<4,>=3.12.2 in /opt/anaconda3/lib/python3.12/site-packages (from virtualenv) (3.13.1)\n",
      "Requirement already satisfied: platformdirs<5,>=3.9.1 in /opt/anaconda3/lib/python3.12/site-packages (from virtualenv) (3.10.0)\n",
      "Note: you may need to restart the kernel to use updated packages.\n"
     ]
    }
   ],
   "source": [
    "pip install --user virtualenv"
   ]
  },
  {
   "cell_type": "code",
   "execution_count": null,
   "id": "9dff95c8-12d4-4094-9a81-75e1c1a01f6b",
   "metadata": {},
   "outputs": [],
   "source": [
    "import pandas as pd\n",
    "from selenium import webdriver"
   ]
  },
  {
   "cell_type": "code",
   "execution_count": null,
   "id": "ea180678-c3fb-4388-b6e7-f86c492510f4",
   "metadata": {},
   "outputs": [],
   "source": []
  }
 ],
 "metadata": {
  "kernelspec": {
   "display_name": "Python 3 (ipykernel)",
   "language": "python",
   "name": "python3"
  },
  "language_info": {
   "codemirror_mode": {
    "name": "ipython",
    "version": 3
   },
   "file_extension": ".py",
   "mimetype": "text/x-python",
   "name": "python",
   "nbconvert_exporter": "python",
   "pygments_lexer": "ipython3",
   "version": "3.12.4"
  }
 },
 "nbformat": 4,
 "nbformat_minor": 5
}
